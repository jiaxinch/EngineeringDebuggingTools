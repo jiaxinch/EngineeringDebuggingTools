{
 "cells": [
  {
   "cell_type": "code",
   "execution_count": 1,
   "metadata": {},
   "outputs": [],
   "source": [
    "from __future__ import absolute_import, division, print_function, unicode_literals\n",
    "import functools\n",
    "#import matplotlib.pyplot as plt\n",
    "import numpy as np\n",
    "import tensorflow as tf\n",
    "import tensorflow_datasets as tfds\n",
    "import cv2"
   ]
  },
  {
   "cell_type": "code",
   "execution_count": 11,
   "metadata": {},
   "outputs": [],
   "source": [
    "def load_data(name):\n",
    "    mnist, info = tfds.load(name, shuffle_files = True, with_info = True)\n",
    "    return mnist, info"
   ]
  },
  {
   "cell_type": "code",
   "execution_count": 12,
   "metadata": {},
   "outputs": [],
   "source": [
    "data, info = load_data(\"mnist\")\n",
    "data = data[\"train\"]\n",
    "shapes = info.features[\"image\"].shape\n",
    "num_examples = info.splits[\"train\"].num_examples + info.splits[\"test\"].num_examples\n",
    "num_class = info.features[\"label\"].num_classes"
   ]
  },
  {
   "cell_type": "code",
   "execution_count": 13,
   "metadata": {},
   "outputs": [],
   "source": [
    "def dataset_complexity(data, shapes):\n",
    "    table = []\n",
    "    d = 1\n",
    "    for s in shapes: #calculate dimensionality of the input dataset\n",
    "        d *= s\n",
    "        \n",
    "    for mnist_example in data:  \n",
    "        image, label = mnist_example[\"image\"], mnist_example[\"label\"]\n",
    "        im_class = label.numpy()\n",
    "        img = np.array(image)\n",
    "        total = np.sum([x.flatten() for x in img]) #calculate the L1 norm\n",
    "        table.append((total, im_class))\n",
    "    \n",
    "    sorted_table = sorted(table, key=lambda x: x[0])\n",
    "    curr = sorted_table[0][1]\n",
    "    threholds = 0 #number of different class labels (相邻) based on L1 norm calculation\n",
    "    diff_class_label = 0\n",
    "    \n",
    "    for i in range(len(sorted_table)):\n",
    "        if sorted_table[i][1] != curr:\n",
    "            diff_class_label = sorted_table[i][1]\n",
    "            threholds += 1\n",
    "    \n",
    "    max_cap_req = threholds\n",
    "    exp_cap_req = np.log2(threholds + 1) * d\n",
    "    return max_cap_req, exp_cap_req, d"
   ]
  },
  {
   "cell_type": "code",
   "execution_count": 9,
   "metadata": {
    "scrolled": true
   },
   "outputs": [],
   "source": [
    "max_cap, exp_cap, d = dataset_complexity(data, shapes)"
   ]
  },
  {
   "cell_type": "code",
   "execution_count": 14,
   "metadata": {},
   "outputs": [
    {
     "name": "stdout",
     "output_type": "stream",
     "text": [
      "Input dimensionality:  784\n",
      "Max capacity need:  53258 bits\n",
      "Estimated capacity need:  12309.378 bits\n"
     ]
    }
   ],
   "source": [
    "print(\"Input dimensionality: \",d)\n",
    "print(\"Max capacity need: \", max_cap,\"bits\")\n",
    "print(\"Estimated capacity need: \",np.round(exp_cap,3),\"bits\")"
   ]
  },
  {
   "cell_type": "code",
   "execution_count": null,
   "metadata": {},
   "outputs": [],
   "source": []
  }
 ],
 "metadata": {
  "kernelspec": {
   "display_name": "Python 3",
   "language": "python",
   "name": "python3"
  },
  "language_info": {
   "codemirror_mode": {
    "name": "ipython",
    "version": 3
   },
   "file_extension": ".py",
   "mimetype": "text/x-python",
   "name": "python",
   "nbconvert_exporter": "python",
   "pygments_lexer": "ipython3",
   "version": "3.7.5"
  }
 },
 "nbformat": 4,
 "nbformat_minor": 2
}
